{
 "cells": [
  {
   "cell_type": "code",
   "execution_count": 2,
   "metadata": {},
   "outputs": [],
   "source": [
    "from keras.applications.vgg16 import VGG16\n",
    "from keras.preprocessing import image\n",
    "from keras.applications.vgg16 import preprocess_input\n",
    "import numpy as np\n",
    "from keras.preprocessing.image import ImageDataGenerator, img_to_array, load_img,save_img\n",
    "from keras.utils import np_utils\n",
    "from keras.models import Sequential\n",
    "from keras.layers import Dropout, Flatten, Dense\n",
    "from keras.optimizers import Adam\n",
    "import os\n",
    "from keras.optimizers import SGD\n",
    "import cv2\n",
    "from os.path import isfile, join"
   ]
  },
  {
   "cell_type": "code",
   "execution_count": 3,
   "metadata": {},
   "outputs": [],
   "source": [
    "def image_generator(train_data, test_data):\n",
    "    train_datagen = ImageDataGenerator(\n",
    "        rotation_range = 40,      \n",
    "        width_shift_range = 0.2,  \n",
    "        height_shift_range = 0.2, \n",
    "        rescale = 1./255,         \n",
    "        shear_range = 0.2,        \n",
    "        zoom_range  =0.2,         \n",
    "        horizontal_flip = True,   \n",
    "        fill_mode='nearest',\n",
    "    )   \n",
    "\n",
    "    test_datagen = ImageDataGenerator(\n",
    "        rescale = 1/255,\n",
    "    )\n",
    "    batch_size = 32\n",
    "    \n",
    "    train_generator = train_datagen.flow_from_directory(\n",
    "        train_data,\n",
    "        target_size=(150,150),\n",
    "        batch_size=batch_size,\n",
    "    )\n",
    "\n",
    "    test_generator = test_datagen.flow_from_directory(\n",
    "        test_data,\n",
    "        target_size=(150,150),\n",
    "        batch_size=batch_size,\n",
    "    )\n",
    "    \n",
    "    return train_generator, test_generator\n"
   ]
  },
  {
   "cell_type": "code",
   "execution_count": 4,
   "metadata": {},
   "outputs": [],
   "source": [
    "from keras.models import load_model\n",
    "model = load_model('model2.h5')"
   ]
  },
  {
   "cell_type": "code",
   "execution_count": 5,
   "metadata": {},
   "outputs": [
    {
     "name": "stdout",
     "output_type": "stream",
     "text": [
      "Found 289 images belonging to 2 classes.\n",
      "Found 90 images belonging to 2 classes.\n"
     ]
    }
   ],
   "source": [
    "train_generator, test_generator = image_generator('retrain/train','retrain/test')"
   ]
  },
  {
   "cell_type": "code",
   "execution_count": 6,
   "metadata": {},
   "outputs": [
    {
     "name": "stdout",
     "output_type": "stream",
     "text": [
      "Epoch 1/2\n",
      "10/10 [==============================] - 121s 12s/step - loss: 0.2527 - accuracy: 0.9031 - val_loss: 0.1266 - val_accuracy: 0.9111\n",
      "Epoch 2/2\n",
      "10/10 [==============================] - 123s 12s/step - loss: 0.2162 - accuracy: 0.8962 - val_loss: 0.1621 - val_accuracy: 0.9667\n"
     ]
    },
    {
     "data": {
      "text/plain": [
       "<keras.callbacks.callbacks.History at 0x22a824fd208>"
      ]
     },
     "execution_count": 6,
     "metadata": {},
     "output_type": "execute_result"
    }
   ],
   "source": [
    "model.compile(optimizer=SGD(lr=1e-4,momentum=0.9),loss='categorical_crossentropy',metrics=['accuracy'])\n",
    "\n",
    "model.fit_generator(train_generator, steps_per_epoch=len(train_generator),\n",
    "                   epochs=2,validation_data=test_generator,validation_steps=len(test_generator))"
   ]
  },
  {
   "cell_type": "code",
   "execution_count": 7,
   "metadata": {},
   "outputs": [],
   "source": [
    "model.save('model2.1.h5')"
   ]
  }
 ],
 "metadata": {
  "kernelspec": {
   "display_name": "Python 3",
   "language": "python",
   "name": "python3"
  },
  "language_info": {
   "codemirror_mode": {
    "name": "ipython",
    "version": 3
   },
   "file_extension": ".py",
   "mimetype": "text/x-python",
   "name": "python",
   "nbconvert_exporter": "python",
   "pygments_lexer": "ipython3",
   "version": "3.8.2"
  }
 },
 "nbformat": 4,
 "nbformat_minor": 4
}
