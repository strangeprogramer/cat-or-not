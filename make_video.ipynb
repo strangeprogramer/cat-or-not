{
 "cells": [
  {
   "cell_type": "code",
   "execution_count": 2,
   "metadata": {},
   "outputs": [],
   "source": [
    "from keras.applications.vgg16 import VGG16\n",
    "from keras.preprocessing import image\n",
    "from keras.applications.vgg16 import preprocess_input\n",
    "import numpy as np\n",
    "from keras.preprocessing.image import ImageDataGenerator, img_to_array, load_img,save_img\n",
    "from keras.utils import np_utils\n",
    "from keras.models import Sequential\n",
    "from keras.layers import Dropout, Flatten, Dense\n",
    "from keras.optimizers import Adam\n",
    "import os\n",
    "from keras.optimizers import SGD\n",
    "import cv2\n",
    "from os.path import isfile, join"
   ]
  },
  {
   "cell_type": "code",
   "execution_count": 2,
   "metadata": {},
   "outputs": [],
   "source": [
    "from keras.models import load_model\n",
    "model = load_model('model2.1.h5')"
   ]
  },
  {
   "cell_type": "code",
   "execution_count": 3,
   "metadata": {},
   "outputs": [],
   "source": [
    "def save_frames(video,outpath):\n",
    "    vidcap = cv2.VideoCapture(video)\n",
    "    success,image = vidcap.read()\n",
    "    count = 0\n",
    "    while success:\n",
    "      cv2.imwrite(''+outpath+'/%d.jpg' % count, image)     # save frame as JPEG file\n",
    "      success,image = vidcap.read()\n",
    "   #   print ('Read a new frame: ', success)\n",
    "      count += 1"
   ]
  },
  {
   "cell_type": "code",
   "execution_count": 4,
   "metadata": {},
   "outputs": [],
   "source": [
    "def get_cat(inpath,outpath):\n",
    "    filePath_cat = inpath\n",
    "    my_image = os.listdir(filePath_cat)\n",
    "    my_image.sort(key=lambda x:int(x[:-4]))\n",
    "    label = np.array(['cat','not cat'])\n",
    "    i = 0\n",
    "    count = 0\n",
    "    while i < len(os.listdir(filePath_cat)):\n",
    "        image = load_img(filePath_cat+my_image[i]+'')\n",
    "        img = image.resize((150,150))\n",
    "        img = img_to_array(img)\n",
    "        img = img/255\n",
    "        img = np.expand_dims(img,0)\n",
    "        img.shape\n",
    "       #print(label[model.predict_classes(img)])\n",
    "        if label[model.predict_classes(img)] == 'cat':\n",
    "            save_img(''+outpath+'/%d.jpg' % count,image)\n",
    "            count += 1\n",
    "        i = i+1"
   ]
  },
  {
   "cell_type": "code",
   "execution_count": 5,
   "metadata": {},
   "outputs": [],
   "source": [
    "def convert_frames_to_video(pathIn,pathOut,fps):\n",
    "    frame_array = []\n",
    "    files = [f for f in os.listdir(pathIn) if isfile(join(pathIn, f))]\n",
    " \n",
    "    #for sorting the file names properly\n",
    "    files.sort(key = lambda x: int(x[:-4]))\n",
    " \n",
    "    for i in range(len(files)):\n",
    "        filename=pathIn + files[i]\n",
    "        #reading each files\n",
    "        img = cv2.imread(filename)\n",
    "        height, width, layers = img.shape\n",
    "        size = (width,height)\n",
    "        #print(filename)\n",
    "        #inserting the frames into an image array\n",
    "        frame_array.append(img)\n",
    " \n",
    "    out = cv2.VideoWriter(pathOut,cv2.VideoWriter_fourcc(*'DIVX'), fps, size)\n",
    " \n",
    "    for i in range(len(frame_array)):\n",
    "        # writing to a image array\n",
    "        out.write(frame_array[i])\n",
    "    out.release()"
   ]
  },
  {
   "cell_type": "code",
   "execution_count": 6,
   "metadata": {},
   "outputs": [],
   "source": [
    "save_frames('Level 1 - japan vlog cats coffee shop.mp4','frames/test')"
   ]
  },
  {
   "cell_type": "code",
   "execution_count": 7,
   "metadata": {},
   "outputs": [],
   "source": [
    "get_cat('frames\\\\test\\\\','cat_frames/test')"
   ]
  },
  {
   "cell_type": "code",
   "execution_count": 8,
   "metadata": {},
   "outputs": [],
   "source": [
    "convert_frames_to_video('cat_frames/test/', 'result/level_1_result.avi', 20.0)"
   ]
  },
  {
   "cell_type": "code",
   "execution_count": null,
   "metadata": {},
   "outputs": [],
   "source": [
    "save_frames('Level 2 - japan vlog ainoshima cats island.mp4','frames/level_2')\n",
    "get_cat('frames\\\\level_2\\\\','cat_frames/level_2')\n",
    "convert_frames_to_video('cat_frames/level_2/', 'result/level_2_result.avi', 22.0)"
   ]
  },
  {
   "cell_type": "code",
   "execution_count": 11,
   "metadata": {},
   "outputs": [],
   "source": [
    "save_frames('Level 3 - The Cat Cafe.mp4','frames/level_3')\n",
    "get_cat('frames\\\\level_3\\\\','cat_frames/level_3')\n",
    "convert_frames_to_video('cat_frames/level_3/', 'result/level_3_result.avi', 22.0)"
   ]
  }
 ],
 "metadata": {
  "kernelspec": {
   "display_name": "Python 3",
   "language": "python",
   "name": "python3"
  },
  "language_info": {
   "codemirror_mode": {
    "name": "ipython",
    "version": 3
   },
   "file_extension": ".py",
   "mimetype": "text/x-python",
   "name": "python",
   "nbconvert_exporter": "python",
   "pygments_lexer": "ipython3",
   "version": "3.8.2"
  }
 },
 "nbformat": 4,
 "nbformat_minor": 4
}
